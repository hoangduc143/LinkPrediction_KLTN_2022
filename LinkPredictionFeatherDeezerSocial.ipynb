{
  "nbformat": 4,
  "nbformat_minor": 0,
  "metadata": {
    "colab": {
      "name": "LinkPredictionFeatherDeezerSocial.ipynb",
      "provenance": [],
      "collapsed_sections": [],
      "include_colab_link": true
    },
    "kernelspec": {
      "name": "python3",
      "display_name": "Python 3"
    },
    "language_info": {
      "name": "python"
    }
  },
  "cells": [
    {
      "cell_type": "markdown",
      "metadata": {
        "id": "view-in-github",
        "colab_type": "text"
      },
      "source": [
        "<a href=\"https://colab.research.google.com/github/hoangduc143/LinkPrediction_KLTN_2022/blob/main/LinkPredictionFeatherDeezerSocial.ipynb\" target=\"_parent\"><img src=\"https://colab.research.google.com/assets/colab-badge.svg\" alt=\"Open In Colab\"/></a>"
      ]
    },
    {
      "cell_type": "code",
      "execution_count": 1,
      "metadata": {
        "id": "mxz3cTkEeLdZ"
      },
      "outputs": [],
      "source": [
        "# Khai báo thư viện\n",
        "import networkx as nx\n",
        "import random\n",
        "from sklearn.metrics import recall_score , precision_score, f1_score"
      ]
    },
    {
      "cell_type": "code",
      "source": [
        "# Liên kết driver\n",
        "from google.colab import drive\n",
        "drive.mount('/content/gdrive')"
      ],
      "metadata": {
        "colab": {
          "base_uri": "https://localhost:8080/"
        },
        "id": "GdyMkZ9JebZF",
        "outputId": "86695bcf-5910-4867-8116-b046276b8e46"
      },
      "execution_count": 2,
      "outputs": [
        {
          "output_type": "stream",
          "name": "stdout",
          "text": [
            "Mounted at /content/gdrive\n"
          ]
        }
      ]
    },
    {
      "cell_type": "code",
      "source": [
        "%cd /content/gdrive/MyDrive/Colab Notebooks"
      ],
      "metadata": {
        "colab": {
          "base_uri": "https://localhost:8080/"
        },
        "id": "_cQNZEdelgWr",
        "outputId": "e49de78d-ae69-4b01-8570-e6eca4693bf2"
      },
      "execution_count": 3,
      "outputs": [
        {
          "output_type": "stream",
          "name": "stdout",
          "text": [
            "/content/gdrive/MyDrive/Colab Notebooks\n"
          ]
        }
      ]
    },
    {
      "cell_type": "code",
      "source": [
        "# Đọc file dữ liệu lastfm_asia_edges.csv\n",
        "# Tạo danh sách các đỉnh\n",
        "file = open('/content/gdrive/MyDrive/Colab Notebooks/LinkPrediction/data/feather-deezer-social/deezer_europe/deezer_europe_edges.csv','r')\n",
        "edges = []\n",
        "for line in file.readlines()[1:]:\n",
        "    tokens = line.strip().split(',')\n",
        "    edge = (int(tokens[0]),int(tokens[1]))\n",
        "    edges.append(edge)"
      ],
      "metadata": {
        "id": "NPCbERlWeh8Y"
      },
      "execution_count": 4,
      "outputs": []
    },
    {
      "cell_type": "code",
      "source": [
        "# Tạo đồ thị cho dữ liệu\n",
        "graph = nx.from_edgelist(edgelist=edges)"
      ],
      "metadata": {
        "id": "4LQZKfJQeyFz"
      },
      "execution_count": 5,
      "outputs": []
    },
    {
      "cell_type": "code",
      "source": [
        "# # đồ thị các đỉnh\n",
        "# nx.draw_networkx_nodes(graph,pos=nx.spring_layout(graph),node_shape='.',linewidths=0.1)\n",
        "# # đồ thị (graph)\n",
        "# nx.draw(graph)\n",
        "# # đồ thị các cạnh\n",
        "# nx.draw_networkx_edges(graph)"
      ],
      "metadata": {
        "id": "BxlCzxjTgPAU"
      },
      "execution_count": 7,
      "outputs": []
    },
    {
      "cell_type": "code",
      "source": [
        "# In ra số cạnh và số đỉnh\n",
        "print(\"Số đỉnh:\",len(graph.nodes))\n",
        "print(\"Số cạnh:\",len(graph.edges))"
      ],
      "metadata": {
        "colab": {
          "base_uri": "https://localhost:8080/"
        },
        "id": "Iy29fbaUfSZb",
        "outputId": "bcf0f5ca-dcca-4a57-d207-550a591f599a"
      },
      "execution_count": 8,
      "outputs": [
        {
          "output_type": "stream",
          "name": "stdout",
          "text": [
            "Số đỉnh: 28281\n",
            "Số cạnh: 92752\n"
          ]
        }
      ]
    },
    {
      "cell_type": "code",
      "source": [
        "# Chọn cứng trình tạo số ngẫu nhiên\n",
        "random.seed(10)"
      ],
      "metadata": {
        "id": "Q6yi6SVRlHjt"
      },
      "execution_count": 9,
      "outputs": []
    },
    {
      "cell_type": "code",
      "source": [
        "# Tỉ lệ số cạnh bị xóa đi trong đồ thị\n",
        "def remove_edges(graph,name_node, ratio_remove=0.5):\n",
        "  remove_nodes = set(random.sample([n for n in graph[name_node]],round(ratio_remove*len(graph[name_node]))))\n",
        "  for n in remove_nodes:\n",
        "    graph.remove_edge(name_node,n)\n",
        "  candidates = [(name_node, n) for n in graph if n not in graph[name_node]]\n",
        "  return remove_nodes , graph , candidates\n",
        "\n"
      ],
      "metadata": {
        "id": "EJFSCEKQlh5I"
      },
      "execution_count": 10,
      "outputs": []
    },
    {
      "cell_type": "code",
      "source": [
        "remove_nodes, graph , candidates = remove_edges(graph,2)"
      ],
      "metadata": {
        "id": "MC-p8HC8qxyu"
      },
      "execution_count": 11,
      "outputs": []
    },
    {
      "cell_type": "code",
      "source": [
        "def jaccard(graph , candidates,name_node, top=20):\n",
        "  scores = [e for e in nx.jaccard_coefficient(graph,candidates)]\n",
        "  scores.sort(key=lambda e:e[2],reverse=True)\n",
        "  predictions = set([e[1] for e in scores[:top]])\n",
        "  return predictions\n",
        "\n",
        "def common_neighbors(graph , candidates,name_node, top=20):\n",
        "  scores = [e for e in nx.common_neighbor_centrality(graph,(2, 1126))]\n",
        "  scores.sort(key=lambda e:e[2],reverse=True)\n",
        "  predictions = set([e[1] for e in scores[:top]])\n",
        "  return predictions\n",
        "\n",
        "def adamic_adar(graph , candidates,name_node, top=20):\n",
        "  scores = [e for e in nx.adamic_adar_index(graph,candidates)]\n",
        "  scores.sort(key=lambda e:e[2],reverse=True)\n",
        "  predictions = set([e[1] for e in scores[:top]])\n",
        "  return predictions\n",
        "\n",
        "def pagerank(graph , candidates,name_node, top=20):\n",
        "  scores = [e for e in nx.pagerank(graph,personalization={ name_node: 1}, alpha=0.9).items() ]\n",
        "  scores.sort(key=lambda e:e[1],reverse=True)\n",
        "  predictions = set([e[0] for e in scores[:top]])\n",
        "  return predictions\n",
        "\n",
        "def score(graph,name_node):\n",
        "  remove_nodes, graph_after , candidates = remove_edges(graph,name_node)\n",
        "  print(\"Tên node đang xet: \",name_node)\n",
        "  print(\"Các node đã xóa: \")\n",
        "  print(remove_nodes)\n",
        "  print(\"Tập dự đoán sử dụng jaccard score:\")\n",
        "  print(jaccard(graph_after , candidates, name_node))\n",
        "  print(\"Các dự đoán đúng của jaccard score:\")\n",
        "  print(jaccard(graph_after , candidates, name_node).intersection(remove_nodes))\n",
        "  \n",
        "  print(\"Tập dự đoán sử dụng adamic_adar score:\")\n",
        "  print(adamic_adar(graph_after , candidates, name_node))\n",
        "  print(\"Các dự đoán đúng của adamic_adar score:\")\n",
        "  print(adamic_adar(graph_after , candidates, name_node).intersection(remove_nodes))\n",
        "  \n",
        "  print(\"Tập dự đoán sử dụng pagerank score:\")\n",
        "  print(pagerank(graph_after , candidates,name_node))\n",
        "  print(\"Các dự đoán đúng của pagerank score:\")\n",
        "  print(pagerank(graph_after , candidates,name_node).intersection(remove_nodes))\n",
        "\n",
        "  # print(recall_score(remove_nodes, jaccard(graph_after , candidates, name_node)))\n",
        "  # print(precision_score(remove_nodes, jaccard(graph_after , candidates, name_node)))\n",
        "  # print(f1_score(remove_nodes, jaccard(graph_after , candidates, name_node)))"
      ],
      "metadata": {
        "id": "wSx5Zx-Iq-8z"
      },
      "execution_count": 12,
      "outputs": []
    },
    {
      "cell_type": "code",
      "source": [
        "name_node = 22\n",
        "score(graph,name_node)"
      ],
      "metadata": {
        "colab": {
          "base_uri": "https://localhost:8080/"
        },
        "id": "rygd9lf151kF",
        "outputId": "7e4efa7d-d5d8-4a25-fee3-83766284d3d4"
      },
      "execution_count": 13,
      "outputs": [
        {
          "output_type": "stream",
          "name": "stdout",
          "text": [
            "Tên node đang xet:  22\n",
            "Các node đã xóa: \n",
            "{7659, 2261}\n",
            "Tập dự đoán sử dụng jaccard score:\n",
            "{0, 6288, 22, 15894, 6552, 16414, 11812, 25525, 3001, 27579, 14270, 14145, 16976, 25564, 22120, 4075, 10990, 14581, 19832, 12029}\n",
            "Các dự đoán đúng của jaccard score:\n",
            "set()\n",
            "Tập dự đoán sử dụng adamic_adar score:\n",
            "{0, 6288, 22, 15894, 6552, 16414, 11812, 25525, 3001, 27579, 14270, 14145, 16976, 25564, 22120, 4075, 10990, 14581, 19832, 12029}\n",
            "Các dự đoán đúng của adamic_adar score:\n",
            "set()\n",
            "Tập dự đoán sử dụng pagerank score:\n",
            "{7172, 4877, 6288, 22, 15894, 6552, 16414, 11812, 27945, 16948, 25525, 9528, 27579, 2369, 21849, 25689, 22120, 4075, 10990, 19832}\n",
            "Các dự đoán đúng của pagerank score:\n",
            "set()\n"
          ]
        }
      ]
    },
    {
      "cell_type": "code",
      "source": [
        "# code cho common_neighbor_centrality \n",
        "G = nx.complete_graph(5)\n",
        "preds = nx.common_neighbor_centrality(G, [(0, 1), (2, 3)])\n",
        "for u, v, p in preds:\n",
        "    print(f\"({u}, {v}) -> {p}\")"
      ],
      "metadata": {
        "id": "hvCBh3pT1POq",
        "colab": {
          "base_uri": "https://localhost:8080/"
        },
        "outputId": "b7ddd63b-f629-4daf-9b72-f95f473121d3"
      },
      "execution_count": 14,
      "outputs": [
        {
          "output_type": "stream",
          "name": "stdout",
          "text": [
            "(0, 1) -> 3.4000000000000004\n",
            "(2, 3) -> 3.4000000000000004\n"
          ]
        }
      ]
    },
    {
      "cell_type": "code",
      "source": [
        "# Code cho simrank\n",
        "G = nx.cycle_graph(1000)\n",
        "nx.simrank_similarity(G)\n",
        "\n",
        "nx.simrank_similarity(graph)"
      ],
      "metadata": {
        "id": "anR843mD89Lo"
      },
      "execution_count": null,
      "outputs": []
    }
  ]
}