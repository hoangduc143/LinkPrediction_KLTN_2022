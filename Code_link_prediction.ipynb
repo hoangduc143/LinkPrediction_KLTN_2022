{
  "nbformat": 4,
  "nbformat_minor": 0,
  "metadata": {
    "colab": {
      "name": "Code link prediction.ipynb",
      "provenance": [],
      "collapsed_sections": [],
      "authorship_tag": "ABX9TyOgoP7m9ZANLrYAsI4IX80f",
      "include_colab_link": true
    },
    "kernelspec": {
      "name": "python3",
      "display_name": "Python 3"
    },
    "language_info": {
      "name": "python"
    }
  },
  "cells": [
    {
      "cell_type": "markdown",
      "metadata": {
        "id": "view-in-github",
        "colab_type": "text"
      },
      "source": [
        "<a href=\"https://colab.research.google.com/github/hoangduc143/LinkPrediction_KLTN_2022/blob/main/Code_link_prediction.ipynb\" target=\"_parent\"><img src=\"https://colab.research.google.com/assets/colab-badge.svg\" alt=\"Open In Colab\"/></a>"
      ]
    },
    {
      "cell_type": "code",
      "execution_count": 1,
      "metadata": {
        "colab": {
          "base_uri": "https://localhost:8080/"
        },
        "id": "m28_ATkotM6G",
        "outputId": "2d72401d-2617-46cb-f22f-bfc041e7481a"
      },
      "outputs": [
        {
          "output_type": "stream",
          "name": "stdout",
          "text": [
            "Mounted at /content/gdrive\n"
          ]
        }
      ],
      "source": [
        "from google.colab import drive\n",
        "\n",
        "drive.mount('/content/gdrive')"
      ]
    },
    {
      "cell_type": "code",
      "source": [
        "%cd /content/gdrive/MyDrive/Colab Notebooks"
      ],
      "metadata": {
        "colab": {
          "base_uri": "https://localhost:8080/"
        },
        "id": "nKNYrVBluKvb",
        "outputId": "d3a9fea6-b412-4e37-a75a-4a0d841a4647"
      },
      "execution_count": 3,
      "outputs": [
        {
          "output_type": "stream",
          "name": "stdout",
          "text": [
            "/content/gdrive/MyDrive/Colab Notebooks\n"
          ]
        }
      ]
    },
    {
      "cell_type": "code",
      "source": [
        "!pip install networkx"
      ],
      "metadata": {
        "colab": {
          "base_uri": "https://localhost:8080/"
        },
        "id": "YAP20xAuuRMG",
        "outputId": "5e4ce0fe-64d4-41b6-e3c9-a81f124ee415"
      },
      "execution_count": 4,
      "outputs": [
        {
          "output_type": "stream",
          "name": "stdout",
          "text": [
            "Requirement already satisfied: networkx in /usr/local/lib/python3.7/dist-packages (2.6.3)\n"
          ]
        }
      ]
    },
    {
      "cell_type": "code",
      "source": [
        "#Tính chỉ số Common neighbors\n",
        "import networkx as nx\n",
        "G = nx.complete_graph(5)\n",
        "sorted(nx.common_neighbors(G, 0, 1))"
      ],
      "metadata": {
        "colab": {
          "base_uri": "https://localhost:8080/"
        },
        "id": "A5sbkeKGt320",
        "outputId": "90893641-e474-4554-dbfd-8a0961783600"
      },
      "execution_count": 9,
      "outputs": [
        {
          "output_type": "execute_result",
          "data": {
            "text/plain": [
              "[2, 3, 4]"
            ]
          },
          "metadata": {},
          "execution_count": 9
        }
      ]
    },
    {
      "cell_type": "code",
      "source": [
        "#Tính chỉ số Jaccard\n",
        "G = nx.complete_graph(5)\n",
        "preds = nx.jaccard_coefficient(G, [(0, 1), (2, 3)])\n",
        "for u, v, p in preds:\n",
        "    print(f\"({u}, {v}) -> {p:.8f}\")"
      ],
      "metadata": {
        "colab": {
          "base_uri": "https://localhost:8080/"
        },
        "id": "OQf9rz4summe",
        "outputId": "e73d57ae-01a6-4f4f-9cc6-6dd7c8750c4c"
      },
      "execution_count": 12,
      "outputs": [
        {
          "output_type": "stream",
          "name": "stdout",
          "text": [
            "(0, 1) -> 0.60000000\n",
            "(2, 3) -> 0.60000000\n"
          ]
        }
      ]
    },
    {
      "cell_type": "code",
      "source": [
        "#Tính chỉ số Ademic / Adar\n",
        "G = nx.complete_graph(5)\n",
        "preds = nx.adamic_adar_index(G, [(0, 1), (2, 3)])\n",
        "for u, v, p in preds:\n",
        "    print(f\"({u}, {v}) -> {p:.8f}\")"
      ],
      "metadata": {
        "colab": {
          "base_uri": "https://localhost:8080/"
        },
        "id": "ZXESpWnuvPka",
        "outputId": "756377ae-d910-411d-8fe1-3e2d36be1275"
      },
      "execution_count": 13,
      "outputs": [
        {
          "output_type": "stream",
          "name": "stdout",
          "text": [
            "(0, 1) -> 2.16404256\n",
            "(2, 3) -> 2.16404256\n"
          ]
        }
      ]
    },
    {
      "cell_type": "code",
      "source": [
        "#Pseudo code tính chỉ số SimRank\n",
        "def simrank(G, u, v):\n",
        "    in_neighbors_u = G.predecessors(u)\n",
        "    in_neighbors_v = G.predecessors(v)\n",
        "    scale = C / (len(in_neighbors_u) * len(in_neighbors_v))\n",
        "    return scale * sum(simrank(G, w, x)\n",
        "                       for w, x in product(in_neighbors_u,\n",
        "                                           in_neighbors_v))"
      ],
      "metadata": {
        "id": "YNrYQPuovvQj"
      },
      "execution_count": 15,
      "outputs": []
    },
    {
      "cell_type": "code",
      "source": [
        "#Tính chỉ số simrank\n",
        "G = nx.cycle_graph(2)\n",
        "nx.simrank_similarity(G)\n",
        "nx.simrank_similarity(G, source=0)\n",
        "nx.simrank_similarity(G, source=0, target=0)"
      ],
      "metadata": {
        "colab": {
          "base_uri": "https://localhost:8080/"
        },
        "id": "aL8qZXtUvvYw",
        "outputId": "1848997e-44f0-4403-ce38-89216e51e49d"
      },
      "execution_count": 17,
      "outputs": [
        {
          "output_type": "execute_result",
          "data": {
            "text/plain": [
              "1.0"
            ]
          },
          "metadata": {},
          "execution_count": 17
        }
      ]
    },
    {
      "cell_type": "code",
      "source": [
        "#Tính chỉ số simrank sử dụng array\n",
        "import numpy as np\n",
        "sim = nx.simrank_similarity(G)\n",
        "np.array([[sim[u][v] for v in G] for u in G])\n",
        "sim_1d = nx.simrank_similarity(G, source=0)\n",
        "np.array([sim[0][v] for v in G])"
      ],
      "metadata": {
        "colab": {
          "base_uri": "https://localhost:8080/"
        },
        "id": "H1NQ7atwwafI",
        "outputId": "05cb469d-3f98-4f5e-ea10-713ffae130f2"
      },
      "execution_count": 18,
      "outputs": [
        {
          "output_type": "execute_result",
          "data": {
            "text/plain": [
              "array([1., 0.])"
            ]
          },
          "metadata": {},
          "execution_count": 18
        }
      ]
    },
    {
      "cell_type": "code",
      "source": [
        "#Tính RWR :\n",
        "import networkx as nx\n",
        "\n",
        "G = nx.Graph()\n",
        "\n",
        "G.add_nodes_from([\"John\", \"Mary\", \"Jill\", \"Todd\",\n",
        "                  \"iPhone5\", \"Kindle Fire\", \"Fitbit Flex Wireless\", \"Harry Potter\", \"Hobbit\"])\n",
        "\n",
        "G.add_weighted_edges_from([\n",
        "    (\"John\", \"iPhone5\", 0.1),\n",
        "    (\"John\", \"Kindle Fire\", 0.2),\n",
        "    (\"Mary\", \"iPhone5\", 0.3),\n",
        "    (\"Mary\", \"Kindle Fire\", 0.4),\n",
        "    (\"Mary\", \"Fitbit Flex Wireless\", 0.5),\n",
        "    (\"Jill\", \"iPhone5\", 0.9),\n",
        "    (\"Jill\", \"Kindle Fire\", 0.1),\n",
        "    (\"Jill\", \"Fitbit Flex Wireless\", 0.1),\n",
        "    (\"Todd\", \"Fitbit Flex Wireless\", 0.1),\n",
        "    (\"Todd\", \"Harry Potter\", 0.1),\n",
        "    (\"Todd\", \"Hobbit\", 0.1),\n",
        "])\n",
        "\n",
        "nx.pagerank(G, personalization={\"John\": 1})"
      ],
      "metadata": {
        "colab": {
          "base_uri": "https://localhost:8080/"
        },
        "id": "aHRidDaIwsb5",
        "outputId": "6222c5ea-0d39-4654-f729-f7da384b7e80"
      },
      "execution_count": 20,
      "outputs": [
        {
          "output_type": "execute_result",
          "data": {
            "text/plain": [
              "{'Fitbit Flex Wireless': 0.07686480607800135,\n",
              " 'Harry Potter': 0.005101925766597928,\n",
              " 'Hobbit': 0.005101925766597928,\n",
              " 'Jill': 0.1461869764429197,\n",
              " 'John': 0.20561695565960642,\n",
              " 'Kindle Fire': 0.1761855806457252,\n",
              " 'Mary': 0.1707312015270615,\n",
              " 'Todd': 0.018007200709912054,\n",
              " 'iPhone5': 0.19620342740357785}"
            ]
          },
          "metadata": {},
          "execution_count": 20
        }
      ]
    },
    {
      "cell_type": "code",
      "source": [
        ""
      ],
      "metadata": {
        "id": "g42DBh_kyToI"
      },
      "execution_count": null,
      "outputs": []
    }
  ]
}